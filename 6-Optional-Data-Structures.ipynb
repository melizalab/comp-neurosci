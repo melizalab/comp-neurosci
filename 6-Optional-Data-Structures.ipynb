{
 "cells": [
  {
   "cell_type": "markdown",
   "metadata": {
    "slideshow": {
     "slide_type": "slide"
    }
   },
   "source": [
    "## Week 8 (Optional): Data Structures\n",
    "\n",
    "This exercise builds on the lesson on Data I/O to introduce some ideas about how to organize your data as you read it into Python.\n",
    "\n",
    "There are whole courses on data representation, but we will only touch on a few topics of importance.\n",
    "\n",
    "- using Python **lists** and **dictionaries** and pandas **data frames** to represent hierarchical data\n",
    "- using the principles of **tidy data** to standardize and simplify tabular data\n"
   ]
  },
  {
   "cell_type": "markdown",
   "metadata": {
    "slideshow": {
     "slide_type": "slide"
    }
   },
   "source": [
    "### Readings\n",
    "\n",
    "For more information:\n",
    " \n",
    "- Wickham H. (2014) Tidy Data. J Stat Soft [doi:10.18637/jss.v059.i10](https://doi.org/10.18637/jss.v059.i10). This article is very R-centric, but the discussion of tidy data principles is generally applicable."
   ]
  },
  {
   "cell_type": "code",
   "execution_count": null,
   "metadata": {
    "slideshow": {
     "slide_type": "fragment"
    }
   },
   "outputs": [],
   "source": [
    "# setting up the notebook\n",
    "%matplotlib inline\n",
    "\n",
    "# import some useful libraries\n",
    "import sys\n",
    "import pprint\n",
    "import numpy as np                # numerical analysis linear algebra\n",
    "import pandas as pd\n",
    "import matplotlib.pyplot as plt   # plotting\n",
    "sys.path.insert(0,\"/project/psyc5270-cdm8j/comp-neurosci\")\n",
    "from comp_neurosci_uva import data"
   ]
  },
  {
   "cell_type": "markdown",
   "metadata": {
    "slideshow": {
     "slide_type": "slide"
    }
   },
   "source": [
    "## Review of Python data types\n",
    "\n",
    "We've encountered a number of different Python data types so far. We've seen **atomic** data types like `int` and `float`, which are just single values, and we've seen **aggregate** data types like `list`, `tuple`, `str`, and `np.array` which can contain more than one value.\n",
    "\n",
    "What all of the aggregate types we've covered so far have in common is that they are indexed by number. We can access individual elements by numerical index (e.g. `my_array[0]`) and subsets of the sequence by slicing (e.g. `my_array[2:20]`). We saw how arrays can have more than one dimension, which then means we can access rows, columns, and various other kinds of subsets based on a combination of indices and slices (e.g. `col = my_array[:,0]`)\n",
    "\n",
    "We also saw that some kinds of aggregates support **nesting**. For example, point process data are usually represented by *lists of lists* or *lists of arrays*. Accessing elements of these data structures also requires multiple indices, but with some differences in syntax (e.g. `first_spike = trials[0][0]`)."
   ]
  },
  {
   "cell_type": "markdown",
   "metadata": {
    "slideshow": {
     "slide_type": "slide"
    }
   },
   "source": [
    "## Python dictionaries\n",
    "\n",
    "We're now going to consider the case when the elements in an aggregate are not (necessarily) in a particular order, but where instead they are defined by **labels**. In other words, instead of accessing elements by index (`data[0]`), we want to be able to do something like `data[\"label\"]`.\n",
    "\n",
    "The standard data type in Python for this kind of aggregate (which is called various things in different languages) is the `dict` (**dictionary**). As with a physical dictionary, each entry in a `dict` has a label (**key**) and a definition (**value**).\n",
    "\n",
    "There are two ways of creating dictionaries in Python:"
   ]
  },
  {
   "cell_type": "code",
   "execution_count": null,
   "metadata": {},
   "outputs": [],
   "source": [
    "# dictionary literal form\n",
    "d1 = {\"a\": 1, \"b\": \"something else\", 4: \"cow\"}\n",
    "d1"
   ]
  },
  {
   "cell_type": "code",
   "execution_count": null,
   "metadata": {},
   "outputs": [],
   "source": [
    "# functional form can only use string-based keys\n",
    "dict(a=1, b=\"something else\")"
   ]
  },
  {
   "cell_type": "markdown",
   "metadata": {
    "slideshow": {
     "slide_type": "slide"
    }
   },
   "source": [
    "The labels of a `dict` are called **keys**. In Python, keys can be strings, numbers, or anything that's *immutable*. The values in a `dict` can be anything.\n",
    "\n",
    "You access elements of a `dict` by key using the familiar bracket syntax:"
   ]
  },
  {
   "cell_type": "code",
   "execution_count": null,
   "metadata": {},
   "outputs": [],
   "source": [
    "print(\"a ->\", d1[\"a\"])\n",
    "print(\"b ->\", d1[\"b\"])"
   ]
  },
  {
   "cell_type": "markdown",
   "metadata": {},
   "source": [
    "Trying to access a non-existent key generates an error:"
   ]
  },
  {
   "cell_type": "code",
   "execution_count": null,
   "metadata": {},
   "outputs": [],
   "source": [
    "d1[\"no\"]"
   ]
  },
  {
   "cell_type": "markdown",
   "metadata": {},
   "source": [
    "You can add new key/value pairs to a dict by simple assignment:"
   ]
  },
  {
   "cell_type": "code",
   "execution_count": null,
   "metadata": {},
   "outputs": [],
   "source": [
    "d1[\"new\"] = 25\n",
    "print(d1)"
   ]
  },
  {
   "cell_type": "markdown",
   "metadata": {},
   "source": [
    "Keys are unique, so assigning a value to a key that already exists will replace the old value."
   ]
  },
  {
   "cell_type": "code",
   "execution_count": null,
   "metadata": {},
   "outputs": [],
   "source": [
    "d1[\"new\"] = 30\n",
    "print(d1)"
   ]
  },
  {
   "cell_type": "markdown",
   "metadata": {},
   "source": [
    "You can remove key/value pairs with the `pop` method:"
   ]
  },
  {
   "cell_type": "code",
   "execution_count": null,
   "metadata": {},
   "outputs": [],
   "source": [
    "print(\"4 ->\", d1.pop(4))\n",
    "print(d1)"
   ]
  },
  {
   "cell_type": "markdown",
   "metadata": {
    "slideshow": {
     "slide_type": "slide"
    }
   },
   "source": [
    "## Nested data structures\n",
    "\n",
    "Because Python `dict` and `list` can contain other `dict` and `list` objects, it's easy to create complex hierarchical data structures.\n",
    "\n",
    "For example, here's how we might represent some spike time data for a single neuron presented with two different stimuli:"
   ]
  },
  {
   "cell_type": "code",
   "execution_count": null,
   "metadata": {},
   "outputs": [],
   "source": [
    "spikes = {'A8': [np.random.uniform(0, 1000, 10), np.random.uniform(0, 1000, 15)],\n",
    "          'B8': [np.random.uniform(0, 1000, 22), np.random.uniform(0, 1000, 17)]}\n",
    "cell = {'cell': 'st231_11', 'date': '2019-01-22', 'spikes': spikes}\n",
    "pprint.pprint(cell)"
   ]
  },
  {
   "cell_type": "markdown",
   "metadata": {
    "slideshow": {
     "slide_type": "slide"
    }
   },
   "source": [
    "## Traversing nested data structures\n",
    "\n",
    "We can access elements of a nested data structure with the bracket operators. Each level needs its own set of brackets."
   ]
  },
  {
   "cell_type": "code",
   "execution_count": null,
   "metadata": {},
   "outputs": [],
   "source": [
    "cell['spikes']['A8'][0]"
   ]
  },
  {
   "cell_type": "markdown",
   "metadata": {},
   "source": [
    "We can also iterate through the structure using for loops. Iterating through list-type aggregates and dicts is slightly different, though."
   ]
  },
  {
   "cell_type": "code",
   "execution_count": null,
   "metadata": {},
   "outputs": [],
   "source": [
    "# iterating through a list/tuple/array yields the items\n",
    "# example: print # of spikes in each trial\n",
    "for trial in cell['spikes']['A8']:\n",
    "    print(len(trial))"
   ]
  },
  {
   "cell_type": "code",
   "execution_count": null,
   "metadata": {},
   "outputs": [],
   "source": [
    "# when iterating through a dict, we usually want to know the keys and values. Use the `items` method to get both.\n",
    "for stim, trials in cell['spikes'].items():\n",
    "    print(\"%s: %d trials\" % (stim, len(trials)))"
   ]
  },
  {
   "cell_type": "code",
   "execution_count": null,
   "metadata": {},
   "outputs": [],
   "source": [
    "# if you need to know the index while iterating through a sequence, use the `enumerate` function\n",
    "for i, trial in enumerate(cell['spikes']['A8']):\n",
    "    print(\"trial %d: %d spikes\" % (i, len(trial)))"
   ]
  },
  {
   "cell_type": "markdown",
   "metadata": {
    "slideshow": {
     "slide_type": "slide"
    }
   },
   "source": [
    "### Nested loops\n",
    "\n",
    "If you need to traverse at multiple levels, you have to use **nested** loops. Notice how the outer `for` block contains an inner `for` block. The intepreter will loop through the arrays in the trial lists for each stimulus. "
   ]
  },
  {
   "cell_type": "code",
   "execution_count": null,
   "metadata": {},
   "outputs": [],
   "source": [
    "for stim, trials in cell['spikes'].items():\n",
    "    print(\"%s:\" % stim)\n",
    "    for i, trial in enumerate(trials):\n",
    "        print(\" trial %d: %d spikes\" % (i, len(trial)))"
   ]
  },
  {
   "cell_type": "markdown",
   "metadata": {
    "slideshow": {
     "slide_type": "slide"
    }
   },
   "source": [
    "### List or dict?\n",
    "\n",
    "It's possible to represent the same data in a variety of ways. Take the following examples:"
   ]
  },
  {
   "cell_type": "code",
   "execution_count": null,
   "metadata": {},
   "outputs": [],
   "source": [
    "prices     = {'a bear': 100, 'a dog': 20}\n",
    "itemdict   = {'a bear': {'price': 100}, 'a dog': {'price': 20}}\n",
    "itemlist   = [{'name': 'a bear', 'price': 100}, {'name': 'a dog', 'price': 20}]"
   ]
  },
  {
   "cell_type": "markdown",
   "metadata": {},
   "source": [
    "Why choose one form over another? There are a few reasons you might want to go with the second or third option: ordering, clarity, and extensibility.\n",
    "\n",
    "**Order**: In Python, dicts do not have a guaranteed order. That means when you iterate over a dict with `items()` or any other method, you're not necessarily going to get the same result. If order matters, use a list.\n",
    "\n",
    "**Clarity**: In `prices`, it's not necessarily clear what the keys or the values in the dict mean, aside from the name of the variable. In `itemdict` and `itemlist`, these meanings are *explicit* rather than *implicit*. Using a more explicit representation can help your data structures be clearer to other users and programmers.\n",
    "\n",
    "**Extensibility**: What do you do with `prices` if you want to add more information about your items? You really only have the option of creating another object or changing how the data are represented. With `itemdict` and `itemlist`, because each element is a dict, you can easily add new key/value pairs as your understanding of the problem changes. This can be important if you want older code to continue to work on the new data structures. This is also called *backwards compatibility*.\n",
    "\n",
    "Take-home: think about how you want to represent your data in your program in terms of your current and future needs. It often makes sense to choose more complex representations to preserve flexibility down the line. And the difference in your code may not be that much. Looping over these three structures is practically identical:"
   ]
  },
  {
   "cell_type": "code",
   "execution_count": null,
   "metadata": {},
   "outputs": [],
   "source": [
    "for name, price in prices.items():\n",
    "    print(name, \"costs\", price)\n",
    "for name, item in itemdict.items():\n",
    "    print(name, \"costs\", item[\"price\"])\n",
    "for item in itemlist:\n",
    "    print(item[\"name\"], \"costs\", item[\"price\"])"
   ]
  },
  {
   "cell_type": "markdown",
   "metadata": {
    "slideshow": {
     "slide_type": "slide"
    }
   },
   "source": [
    "## Nested data structures: a real example\n",
    "\n",
    "Neuroscience experiments almost always have a hierarchical structure. \n",
    "\n",
    "Switch to the main tab for your jupyter notebook and look in the `data/starling-example` folder. You should see two subdirectories. These are the names of two units from different animals. The animal name is the first part of the directory name, i.e., `st11` and `st49`. Within each subdirectory, there are 6 files that hold the spike times in response to one of six different stimuli.\n",
    "\n",
    "How do we load the data? And how should we represent them in Python?\n",
    "\n",
    "Here's some code to traverse the data. We're now dealing with the filesystem, which has a hierarchical organization. The code demonstrates the use of the function `glob`, which gives us a list of files using **wildcards**, and the `split` function, which divides a string up into parts."
   ]
  },
  {
   "cell_type": "code",
   "execution_count": null,
   "metadata": {},
   "outputs": [],
   "source": [
    "import os\n",
    "import glob\n",
    "\n",
    "def load_spikes(fname):\n",
    "    \"\"\"Load spikes from a file in flat ascii format\"\"\"\n",
    "    with open(fname, \"rt\") as fp:\n",
    "        return [np.fromstring(line, sep=\" \") for line in fp]\n",
    "\n",
    "# The '*' character will match any file name, so this `glob` call will return a list\n",
    "# of all the files in `data/starling-example/`\n",
    "data_path = os.path.join(data.data_path, \"starling\", \"spikes\", \"*\")\n",
    "for dirname in glob.glob(data_path):\n",
    "    neuron = os.path.basename(dirname)\n",
    "    print(\"animal:\", neuron.split(\"_\")[0])\n",
    "    print(\" neuron:\", neuron)\n",
    "    for respfile in glob.glob(os.path.join(dirname, \"*\")):\n",
    "        stim = os.path.splitext(os.path.basename(respfile))[0]\n",
    "        print(\"  stim:\", stim)\n",
    "        for i, trial in enumerate(load_spikes(respfile)):\n",
    "            print(\"   trial\", i, \":\", len(trial), \"spikes\")\n",
    "        "
   ]
  },
  {
   "cell_type": "markdown",
   "metadata": {
    "slideshow": {
     "slide_type": "slide"
    }
   },
   "source": [
    "The data are clearly nested, like so:\n",
    "\n",
    "- animal\n",
    "  - neuron\n",
    "     - stimulus\n",
    "        - trial\n",
    "\n",
    "However, in deciding how to store the data we have some choices to make, because not everything needs to have its own level. \n",
    "\n",
    "As an example, the following structures hold the same information, but are not totally equivalent:"
   ]
  },
  {
   "cell_type": "code",
   "execution_count": null,
   "metadata": {},
   "outputs": [],
   "source": [
    "nested = {\"animal_id\": {\"neuron_id\": {\"stimulus_id\": {\"trial_1\": [1,2], \"trial_2\": [3,4]}}}}\n",
    "flat = [{\"animal\": \"animal_id\", \"neuron\": \"neuron_id\", \"stimulus\": \"stimulus_id\", \"trial\": 1, \"data\": [1,2]},\n",
    "        {\"animal\": \"animal_id\", \"neuron\": \"neuron_id\", \"stimulus\": \"stimulus_id\", \"trial\": 2, \"data\": [3,4]}]\n",
    "pprint.pprint(nested)\n",
    "pprint.pprint(flat)"
   ]
  },
  {
   "cell_type": "markdown",
   "metadata": {
    "slideshow": {
     "slide_type": "slide"
    }
   },
   "source": [
    "In the *flattened* form, the levels are indicated by key/value pairs. In the *nested* form, the levels are indicated by hierarchical nesting. There may be many possible combinations of flattening and nesting.\n",
    "\n",
    "To decide what's best, start by thinking about what the *natural unit of analysis* is. In other words, what always goes together, and what can be set aside as an incidental property (for now)?\n",
    "\n",
    "Clearly, individual trials don't have much meaning on their own. They're repetitions that allow us to better estimate the distribution of a neuron's responses to a given stimulus. Similarly, individual stimuli represent a sample of the universe of possible stimuli. \n",
    "\n",
    "In contrast, if we're interested in analying how different neurons respond to various stimuli, we may not care right now about which animal the neuron came from. It might therefore make the most sense to have `animal` be a property rather than a separate level.\n",
    "\n",
    "Note that this doesn't prevent you from doing hierarchical models at a later stage; it just means that you're committing to doing the first step of your analysis with neurons as individual units. Also, there's not one right answer to this question."
   ]
  },
  {
   "cell_type": "markdown",
   "metadata": {
    "slideshow": {
     "slide_type": "slide"
    }
   },
   "source": [
    "Let's load the data into a nested dictionary, with `neuron` as the natural unit of analysis:"
   ]
  },
  {
   "cell_type": "code",
   "execution_count": null,
   "metadata": {},
   "outputs": [],
   "source": [
    "spike_data = {}\n",
    "for dirname in glob.glob(data_path):\n",
    "    neuron = os.path.basename(dirname)\n",
    "    animal = neuron.split(\"_\")[0]\n",
    "    stims = []\n",
    "    for respfile in glob.glob(os.path.join(dirname, \"*\")):\n",
    "        stim = os.path.splitext(os.path.basename(respfile))[0]\n",
    "        trials = load_spikes(respfile)\n",
    "        stims.append({\"stimulus\": stim, \"response\": trials})\n",
    "    ndata = {\"animal\": animal, \"stimuli\": stims}\n",
    "    spike_data[neuron] = ndata"
   ]
  },
  {
   "cell_type": "markdown",
   "metadata": {
    "slideshow": {
     "slide_type": "slide"
    }
   },
   "source": [
    "### Exercise\n",
    "\n",
    "Plot the responses of both neurons to all 6 stimuli. The plot should have 2 columns and 6 rows. Use code from previous assignments to generate the rasters."
   ]
  },
  {
   "cell_type": "code",
   "execution_count": null,
   "metadata": {},
   "outputs": [],
   "source": []
  },
  {
   "cell_type": "markdown",
   "metadata": {
    "slideshow": {
     "slide_type": "slide"
    }
   },
   "source": [
    "## Hierarchical data in pandas\n",
    "\n",
    "Hierarchical data can also be represented in tables. \n",
    "\n",
    "Recall that a pandas `Series` is a lot like a dictionary in that the elements are indexed by labels. However, the values in a series are usually scalars rather than arbitrary objects."
   ]
  },
  {
   "cell_type": "code",
   "execution_count": null,
   "metadata": {},
   "outputs": [],
   "source": [
    "ages = pd.Series([391, 442, 183], index=['st11', 'st22', 'st231'])\n",
    "ages"
   ]
  },
  {
   "cell_type": "markdown",
   "metadata": {},
   "source": [
    "In fact, you can create Series objects from dicts:"
   ]
  },
  {
   "cell_type": "code",
   "execution_count": null,
   "metadata": {
    "scrolled": true
   },
   "outputs": [],
   "source": [
    "pd.Series({'st11': 391, 'st22': 442, 'st231': 183})"
   ]
  },
  {
   "cell_type": "markdown",
   "metadata": {
    "slideshow": {
     "slide_type": "slide"
    }
   },
   "source": [
    "A pandas DataFrame is also like a dictionary, but the values are rows. This is equivalent to a dict of dicts, and this is one way you can create a DataFrame (though note that the table may need to be transposed so that the outer nesting level corresponds to rows rather than columns)."
   ]
  },
  {
   "cell_type": "code",
   "execution_count": null,
   "metadata": {},
   "outputs": [],
   "source": [
    "pd.DataFrame({'st11': {'age': 391, 'sex': 'M'}, 'st22': {'age': 442, 'sex': 'F'}}).T"
   ]
  },
  {
   "cell_type": "markdown",
   "metadata": {
    "slideshow": {
     "slide_type": "slide"
    }
   },
   "source": [
    "### Hierarchical indices\n",
    "\n",
    "Data can be nested in a pandas table through the use of multiple indices. Here's an example of how a Series of spike counts might look for trials nested under stimuli:"
   ]
  },
  {
   "cell_type": "code",
   "execution_count": null,
   "metadata": {},
   "outputs": [],
   "source": [
    "counts = pd.Series([10, 22, 2, 5], index=[['A8', 'A8', 'B8', 'B8'], [0, 1, 0, 1]])\n",
    "counts"
   ]
  },
  {
   "cell_type": "markdown",
   "metadata": {},
   "source": [
    "Single-index `Series` and `DataFrame` objects are accessed with a single index; multi-index objects require more than one index:"
   ]
  },
  {
   "cell_type": "code",
   "execution_count": null,
   "metadata": {},
   "outputs": [],
   "source": [
    "counts[\"A8\", 0]"
   ]
  },
  {
   "cell_type": "markdown",
   "metadata": {},
   "source": [
    "This is conceptually quite similar to how you access data in nested dicts and lists, with some small differences in syntax:"
   ]
  },
  {
   "cell_type": "code",
   "execution_count": null,
   "metadata": {},
   "outputs": [],
   "source": [
    "nested[\"animal_id\"][\"neuron_id\"][\"stimulus_id\"][\"trial_1\"][0]"
   ]
  },
  {
   "cell_type": "markdown",
   "metadata": {},
   "source": [
    "However, because the data is more structured, multi-indexed pandas objects give you the ability to select rows based on any of the indices. For example, this pulls out all the rows where `trial` is 0."
   ]
  },
  {
   "cell_type": "code",
   "execution_count": null,
   "metadata": {},
   "outputs": [],
   "source": [
    "counts[:, 0]"
   ]
  },
  {
   "cell_type": "markdown",
   "metadata": {},
   "source": [
    "There is a LOT more you can do with indices, and it's worth giving some careful study to the section on [Hierarchical Indexing](https://jakevdp.github.io/PythonDataScienceHandbook/03.05-hierarchical-indexing.html) in the Python Data Science Handbook."
   ]
  },
  {
   "cell_type": "markdown",
   "metadata": {
    "slideshow": {
     "slide_type": "slide"
    }
   },
   "source": [
    "## Demo\n",
    "\n",
    "Let's illustrate how we might traverse our spike data and calculate spike counts. We'll use standard Python types first and then convert to a pandas array:"
   ]
  },
  {
   "cell_type": "code",
   "execution_count": null,
   "metadata": {},
   "outputs": [],
   "source": [
    "spike_counts = []\n",
    "for neuron, ndata in spike_data.items():\n",
    "    for stimresp in ndata['stimuli']:\n",
    "        for i, trial in enumerate(stimresp['response']):\n",
    "            d = {\n",
    "                \"neuron\": neuron, \n",
    "                \"animal\": ndata[\"animal\"], \n",
    "                \"stimulus\": stimresp[\"stimulus\"], \n",
    "                \"trial\": i, \n",
    "                \"count\": len(trial)\n",
    "                }\n",
    "            spike_counts.append(d)\n",
    "spike_counts"
   ]
  },
  {
   "cell_type": "markdown",
   "metadata": {
    "slideshow": {
     "slide_type": "slide"
    }
   },
   "source": [
    "Notice how we're flattening the data structure by storing information about each level in individual records. This makes it easier to convert to a pandas DataFrame:"
   ]
  },
  {
   "cell_type": "code",
   "execution_count": null,
   "metadata": {},
   "outputs": [],
   "source": [
    "count_df = pd.DataFrame(spike_counts)\n",
    "count_df"
   ]
  },
  {
   "cell_type": "markdown",
   "metadata": {
    "slideshow": {
     "slide_type": "slide"
    }
   },
   "source": [
    "The final step is to convert some of the columns to indices."
   ]
  },
  {
   "cell_type": "code",
   "execution_count": null,
   "metadata": {},
   "outputs": [],
   "source": [
    "count_df_idx = count_df.set_index(['animal', 'neuron', 'stimulus', 'trial'])\n",
    "count_df_idx"
   ]
  },
  {
   "cell_type": "markdown",
   "metadata": {},
   "source": [
    "This is what enables us to flexibly select subsets of rows:"
   ]
  },
  {
   "cell_type": "code",
   "execution_count": null,
   "metadata": {},
   "outputs": [],
   "source": [
    "count_df_idx.loc[\"st11\",:,\"C8\"]"
   ]
  },
  {
   "cell_type": "markdown",
   "metadata": {
    "slideshow": {
     "slide_type": "slide"
    }
   },
   "source": [
    "## Tidy data\n",
    "\n",
    "What's the best way to organize your tables? Although there may be many good answers, a guiding set of principles that will generally make your life easier falls under the rubric of **tidy data**. As summarized in the Wickham article, tidy data obeys the following principles:\n",
    "\n",
    "1. Each variable forms a column\n",
    "2. Each observation forms a row\n",
    "3. Each type of observational unit forms a table\n",
    "\n",
    "These principles are fairly easily [applied](https://tomaugspurger.github.io/modern-5-tidy.html) to tables but might require some more creative thinking when dealing with non-tabular data. In general, I try to avoid a lot of nesting, and try to get data into tabular forms as soon as possible."
   ]
  }
 ],
 "metadata": {
  "kernelspec": {
   "display_name": "Python 3",
   "language": "python",
   "name": "python3"
  },
  "language_info": {
   "codemirror_mode": {
    "name": "ipython",
    "version": 3
   },
   "file_extension": ".py",
   "mimetype": "text/x-python",
   "name": "python",
   "nbconvert_exporter": "python",
   "pygments_lexer": "ipython3",
   "version": "3.8.8"
  },
  "rise": {
   "scroll": true
  }
 },
 "nbformat": 4,
 "nbformat_minor": 4
}
