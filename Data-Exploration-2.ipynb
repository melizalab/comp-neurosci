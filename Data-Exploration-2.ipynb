{
 "cells": [
  {
   "cell_type": "markdown",
   "metadata": {},
   "source": [
    "## Data Exploration 2: Documenting your data\n",
    "\n",
    "In this notebook, you'll describe the structure of your dataset and write some preliminary code for reading and parsing the data files. "
   ]
  },
  {
   "cell_type": "markdown",
   "metadata": {},
   "source": [
    "### Setup your workspace\n",
    "\n",
    "You will need to run this notebook on rivanna under the `Project` work directory. First, create a subdirectory under `psyc5270-cdm8j/projects`. Give it a name consisting of the computing ids of all the members of your group, separated by dashes (e.g. `cdm8j-ckf5h`).\n",
    "\n",
    "Then save this file to that directory (`File/Save Notebook As...`) and edit it from there."
   ]
  },
  {
   "cell_type": "markdown",
   "metadata": {},
   "source": [
    "### Explore your dataset\n",
    "\n",
    "I've downloaded the CRCNS datasets corresponding to the papers each of your groups selected for journal club and stored them under `shared_data/crcns`. Raw data are typically omitted due to limited space (let me know if you need it and we'll come up with a solution). Use the navigator pane to go to that directory, open the documentation for the dataset, and explore the files.\n",
    "\n",
    "If you plan to analyze data from your own research, you will need to upload it to the `shared_data` folder. Consult with your instructor first to make sure that there is enough room for it.\n",
    "\n",
    "Then answer the following questions:"
   ]
  },
  {
   "cell_type": "markdown",
   "metadata": {},
   "source": [
    "1. What is the structure of the stimulus? What modality is it? What are the dimensions (e.g. time, space, spectral frequency)? What physical quantity do the values correspond to (e.g. luminance, power, pressure)?"
   ]
  },
  {
   "cell_type": "markdown",
   "metadata": {},
   "source": []
  },
  {
   "cell_type": "markdown",
   "metadata": {},
   "source": [
    "2. How are the stimulus data stored on disk? What file format is used? How do the dimensions of the stimulus correspond to dimensions in the file? Does the data in the file have to be transformed in any way (e.g., converted to a spectrogram), or can it be used as-in? "
   ]
  },
  {
   "cell_type": "markdown",
   "metadata": {},
   "source": []
  },
  {
   "cell_type": "markdown",
   "metadata": {},
   "source": [
    "3. What is the structure of the response? Is it a point process or a time series? Are there multiple units of analysis (e.g. cells, voxels, subjects)? Were these units of analysis measured simultaneously or in separate experiments?"
   ]
  },
  {
   "cell_type": "markdown",
   "metadata": {},
   "source": []
  },
  {
   "cell_type": "markdown",
   "metadata": {},
   "source": [
    "4. How are the response data stored on disk? What file format is used? How do the dimensions of the response correspond to the dimensions in the file? If there are multiple units of analysis, are they stored together in the same file or in separate files?"
   ]
  },
  {
   "cell_type": "markdown",
   "metadata": {},
   "source": []
  },
  {
   "cell_type": "markdown",
   "metadata": {},
   "source": [
    "### Reading the data \n",
    "\n",
    "Your next task is to figure out how to load the data from the files into memory. The method for doing this will depend on the structure of the data on the disk. It may be stored in text or binary, and there may be metadata stored within the file or in separate files. Data for multiple units may be stored within the same file, or it may be organized in a directory structure.\n",
    "\n",
    "There are many libraries available for reading common data formats. See if one of the following packages will do what you need.\n",
    "\n",
    "- Standard Python library:\n",
    "  - [os](https://docs.python.org/3/library/os.html): construct path names\n",
    "  - [glob](https://docs.python.org/3/library/glob.html): find files using wildcards\n",
    "  - [json](https://docs.python.org/3/library/json.html): read data encoded in JSON format\n",
    "- Numpy:\n",
    "  - [loadtxt](https://docs.scipy.org/doc/numpy/reference/generated/numpy.loadtxt.html): read numerical data in text format into numpy arrays\n",
    "  - [memmap](https://docs.scipy.org/doc/numpy/reference/generated/numpy.memmap.html): read numerica data in binary format into numpy arrays\n",
    "- Scipy:\n",
    "  - [io](https://docs.scipy.org/doc/scipy/reference/io.html): read and write data in a variety of formats\n",
    "- Pandas:\n",
    "  - [io](http://pandas.pydata.org/pandas-docs/stable/user_guide/io.html): read and write structured data formats (including CSV and Excel files)\n",
    "- 3rd party packages\n",
    "  - [neo.io](https://neo.readthedocs.io/en/0.7.1/io.html): Many widely used electrophysiology formats\n",
    "  - [nibabel](https://nipy.org/nibabel/gettingstarted.html): Many widely used imaging formats\n",
    "  - use your favorite search engine to find others\n"
   ]
  },
  {
   "cell_type": "markdown",
   "metadata": {},
   "source": [
    "#### Install external dependencies\n",
    "\n",
    "Numpy, scipy, and pandas are all available through the standard Jupyter kernel. You may be able to access other libraries by choosing a different kernel.\n",
    "\n",
    "If you need to install a third-party library, review the instructions on the library's documentation website. Typically you will need to use the `pip` command. In a Jupyter notebook, any command that you preface with `!` will be sent to the shell. For example, to install neo you would use `!pip install --user neo`.\n",
    "\n",
    "Enter any installation commands that you need into the cell below."
   ]
  },
  {
   "cell_type": "code",
   "execution_count": null,
   "metadata": {},
   "outputs": [],
   "source": []
  },
  {
   "cell_type": "markdown",
   "metadata": {},
   "source": [
    "#### Read a stimulus file\n",
    "\n",
    "In the code cell below, write statements to (1) load one (or more) of the stimuli, (2) convert it to the desired format for analysis (for example, by computing a spectrogram), and (3) plot an example stimulus (or part of one, if it's really large)."
   ]
  },
  {
   "cell_type": "code",
   "execution_count": null,
   "metadata": {},
   "outputs": [],
   "source": []
  },
  {
   "cell_type": "markdown",
   "metadata": {},
   "source": [
    "#### Read a response file\n",
    "\n",
    "In the code cell below, write statements to (1) load one or more responses and (2) plot it. For responses comprising multiple units or voxels, you may choose to plot the time course of only a single cell or voxel. For very long responses, plot only a short segment.\n",
    "\n",
    "If you are able, plot the response and the stimulus on the same axis."
   ]
  },
  {
   "cell_type": "code",
   "execution_count": null,
   "metadata": {},
   "outputs": [],
   "source": []
  }
 ],
 "metadata": {
  "kernelspec": {
   "display_name": "Python 3 (ipykernel)",
   "language": "python",
   "name": "python3"
  },
  "language_info": {
   "codemirror_mode": {
    "name": "ipython",
    "version": 3
   },
   "file_extension": ".py",
   "mimetype": "text/x-python",
   "name": "python",
   "nbconvert_exporter": "python",
   "pygments_lexer": "ipython3",
   "version": "3.11.4"
  }
 },
 "nbformat": 4,
 "nbformat_minor": 4
}
