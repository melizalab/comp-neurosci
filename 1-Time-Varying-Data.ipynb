{
 "cells": [
  {
   "cell_type": "markdown",
   "metadata": {
    "slideshow": {
     "slide_type": "slide"
    }
   },
   "source": [
    "# 1 Time-Varying Data\n",
    "\n",
    "The goals of this exercise are to:\n",
    "\n",
    "- learn what kind of data we deal with in neuroscience\n",
    "- how it can be represented and manipulated in digital computers\n",
    "- introduce Python notebooks\n",
    "\n",
    "A notebook is an interactive document that lets you mix text and computer code, organized into `cells`. A cell can contain either text or code. This is a text cell. You can edit the contents of this cell by double-clicking, then save by typing `Ctrl-Enter`."
   ]
  },
  {
   "cell_type": "markdown",
   "metadata": {
    "slideshow": {
     "slide_type": "slide"
    }
   },
   "source": [
    "## Your Assignment \n",
    "\n",
    "- Turn in a written response to each of the questions (e.g. **Q1**) below. \n",
    "- If working in teams, assign the least experienced programmer to operate the notebook\n",
    "- Assign the most experienced program to write the responses\n",
    "- Only one submission per team, please\n",
    "\n",
    "Please note that if you're running the notebook on [mybinder](https://mybinder.org), you'll need to download the `ipynb` file (see the `File/Download as` menu) to save any work to your local computer if you want to work on the notebook later."
   ]
  },
  {
   "cell_type": "markdown",
   "metadata": {
    "slideshow": {
     "slide_type": "slide"
    }
   },
   "source": [
    "## Introduction to the Python Notebook\n",
    "\n",
    "The cell below this is a code cell, as indicated by `In [ ]:` off to the left. When you type `Ctrl-Enter` in a code cell, the contents are passed to the Python interpreter. Each line is executed in turn. If the last line evaluates to something, this will be shown below the code cell. To run the notebook, you need to type `Ctrl-Enter` in each cell (including the one below):"
   ]
  },
  {
   "cell_type": "code",
   "execution_count": 1,
   "metadata": {
    "tags": []
   },
   "outputs": [
    {
     "data": {
      "text/plain": [
       "16"
      ]
     },
     "execution_count": 1,
     "metadata": {},
     "output_type": "execute_result"
    }
   ],
   "source": [
    "8 + 9 * 2\n",
    "(3 + 5) * 2"
   ]
  },
  {
   "cell_type": "markdown",
   "metadata": {
    "slideshow": {
     "slide_type": "slide"
    }
   },
   "source": [
    "Why did the interpreter only print the value of the last line? \n",
    "\n",
    "Some important things to understand about computer programs:\n",
    "\n",
    "- Think of each statement as a command to an stupid but extremely fast robot. \n",
    "- When you type `Ctrl-Enter` in a cell, the robot will do what each line in the cell says. \n",
    "- If the last statement is an expression that has some value, the interpreter prints that out."
   ]
  },
  {
   "cell_type": "markdown",
   "metadata": {
    "slideshow": {
     "slide_type": "slide"
    }
   },
   "source": [
    "### Python is interactive\n",
    "\n",
    "It's common to work with an interpreter in this *interactive* mode, which is also called a *read-evaluate-print-loop* (REPL).\n",
    "\n",
    "You can evaluate the same cell over and over, which is equivalent to telling the robot to do the same thing as it did before. However, if you edit the contents of the cell, you'll get results that correspond to your new statements and expressions."
   ]
  },
  {
   "cell_type": "markdown",
   "metadata": {
    "slideshow": {
     "slide_type": "slide"
    }
   },
   "source": [
    "### Variables\n",
    "\n",
    "An important task the interpreter can do is to store and retrieve data from memory. A **variable** is essentially a named container where information can be stored. In Python, storing a value in a variable (**assignment**) is done with the equals sign (`=`). The value on the right side is assigned to the variable on the left. Variables are created the first time you use them, and you don't have to tell the interpreter what the type of the data is (more on this later)."
   ]
  },
  {
   "cell_type": "code",
   "execution_count": null,
   "metadata": {},
   "outputs": [],
   "source": [
    "age = 42\n",
    "name = \"Arthur\""
   ]
  },
  {
   "cell_type": "markdown",
   "metadata": {},
   "source": [
    "Note that in contrast to the cell above, this code does not generate an output. "
   ]
  },
  {
   "cell_type": "markdown",
   "metadata": {
    "slideshow": {
     "slide_type": "slide"
    }
   },
   "source": [
    "To retrieve the value of a variable, you just use the name of the variable. For example, the expression below will evaluate to the value currently stored in `age`."
   ]
  },
  {
   "cell_type": "code",
   "execution_count": null,
   "metadata": {},
   "outputs": [],
   "source": [
    "age"
   ]
  },
  {
   "cell_type": "markdown",
   "metadata": {
    "slideshow": {
     "slide_type": "slide"
    }
   },
   "source": [
    "#### Displaying variables\n",
    "\n",
    "You can also use the `print` function to display the values of variables. To use `print`, simply put the variables and expressions you want to display between parentheses, separated by commas, as below:"
   ]
  },
  {
   "cell_type": "code",
   "execution_count": null,
   "metadata": {},
   "outputs": [],
   "source": [
    "print(name, \"is\", age, \"years old.\")"
   ]
  },
  {
   "cell_type": "markdown",
   "metadata": {
    "slideshow": {
     "slide_type": "slide"
    }
   },
   "source": [
    "#### Altering variables\n",
    "\n",
    "It's important to keep in mind that when you use a variable in an expression, the interpreter looks up the **current value**. \n",
    "\n",
    "Storing a new value in a variable doesn't affect prior statements. \n",
    "\n",
    "Look at the following cell and try to determine (before running the cell) what the value of `my_sum` will be."
   ]
  },
  {
   "cell_type": "code",
   "execution_count": 2,
   "metadata": {
    "tags": []
   },
   "outputs": [
    {
     "name": "stdout",
     "output_type": "stream",
     "text": [
      "my sum is 71\n"
     ]
    }
   ],
   "source": [
    "initial = 42\n",
    "my_sum = initial + 29\n",
    "initial = 0\n",
    "\n",
    "print(\"my sum is\", my_sum)"
   ]
  },
  {
   "cell_type": "markdown",
   "metadata": {
    "slideshow": {
     "slide_type": "slide"
    }
   },
   "source": [
    "### Controlling the interpreter\n",
    "\n",
    "As you execute code cells, the interpreter's **state** will change as values are stored in variables. All the cells in a notebook live in the same workspace or `kernel`. That means if you change the value of `age` and then go back and execute the code two cells above, you'll get a different output.\n",
    "\n",
    "There's nothing to keep you from running cells out of order, and this can be very useful when you're working on solving a problem. However, you can easily get your kernel into a state where a lot of variables are not what you think they are. When this happens, usually the best strategy is to restart the kernel. To do this, go to the `Kernel` menu, select `Restart and Clear Output`. Then to re-run the code, go to the `Cell` menu and select `Run All Above`. Try this now.\n",
    "\n",
    "While you're looking up there, browse through the other menus and buttons at the top of the page. You can copy, cut, and paste cells with the `Edit` menu to move them around, or insert blank cells in the notebook. This can be very useful when you're experimenting but don't want to mess up some of the code I've provided you. \n",
    "\n",
    "Finally, don't ignore the `Help` menu - it explains more about using the notebook and has links to documentation for many of the scientific programming libraries we'll be using."
   ]
  },
  {
   "cell_type": "markdown",
   "metadata": {
    "slideshow": {
     "slide_type": "slide"
    }
   },
   "source": [
    "### Data types\n",
    "\n",
    "What kinds of data can you put in a variable in Python? The core data types are:\n",
    "\n",
    "- strings of characters (`strings`)\n",
    "- numbers (`integers` and `floats`)\n",
    "\n",
    "Strings are used to store text. You'll often use strings as labels; for example, to indicate what stimulus was played or the identifier for a neuron. Python strings support unicode (which means they can be fancy Greek or other non-Roman letters), and are constructed by using single or double quotes. The following two expressions are the same."
   ]
  },
  {
   "cell_type": "code",
   "execution_count": null,
   "metadata": {},
   "outputs": [],
   "source": [
    "'mötörheαd'\n",
    "\"mötörheαd\""
   ]
  },
  {
   "cell_type": "markdown",
   "metadata": {
    "slideshow": {
     "slide_type": "slide"
    }
   },
   "source": [
    "### Numerical data types\n",
    "\n",
    "There are two main kinds of numerical data types: integers and floats. Integers can be positive or negative, but they never have a fractional component. They're frequently used as counters, indexes, and categorical labels. Floating point numbers represent real quantities, and can be entered as decimals or using scientific notation:"
   ]
  },
  {
   "cell_type": "code",
   "execution_count": null,
   "metadata": {},
   "outputs": [],
   "source": [
    "an_integer = -1\n",
    "a_float = 1.0\n",
    "another_float = 1.22e6\n",
    "print(an_integer, a_float, another_float)"
   ]
  },
  {
   "cell_type": "markdown",
   "metadata": {},
   "source": [
    "As an aside, computers have limited precision representing real numbers, and you sometimes will see weird behavior like in the cell below. For the most part, you can ignore this [representation error](https://docs.python.org/2/tutorial/floatingpoint.html) issue, as none of the quantities you're working with are known to 10+ decimal places. However, it's a good reason to use integers instead of floats whenever you know that there's not supposed to be a fractional component."
   ]
  },
  {
   "cell_type": "code",
   "execution_count": null,
   "metadata": {},
   "outputs": [],
   "source": [
    "0.1 + 0.2"
   ]
  },
  {
   "cell_type": "markdown",
   "metadata": {
    "slideshow": {
     "slide_type": "slide"
    }
   },
   "source": [
    "## Time-varying Data\n",
    "\n",
    "In neurophysiology, much of the data we'll be working with represents some process that changes in time. There are two fundamental ways of representing time-varying data in a computer:"
   ]
  },
  {
   "cell_type": "markdown",
   "metadata": {
    "slideshow": {
     "slide_type": "slide"
    }
   },
   "source": [
    "A **time series** is a quantitative physical property of a system measured over a time interval. \n",
    "\n",
    "- In digital computers, time series data are always sampled at discrete moments in time.\n",
    "- The *sampling rate* of the data is the number of times per second the underlying process was measured. \n",
    "- Examples of time series include sound waveforms and recordings of extracellular voltage."
   ]
  },
  {
   "cell_type": "markdown",
   "metadata": {
    "slideshow": {
     "slide_type": "slide"
    }
   },
   "source": [
    "A **point process** is a series of times when an event took place. \n",
    "  \n",
    "- An example of a point process is the set of times when a neuron produced an action potential (spike)."
   ]
  },
  {
   "cell_type": "markdown",
   "metadata": {
    "slideshow": {
     "slide_type": "slide"
    }
   },
   "source": [
    "### Arrays\n",
    "\n",
    "Both time series and point process data involve many data points, one for each sampling interval (for time series) or for each event (for point processes). It would be very inefficient to have to give each data point a name; moreover, there's an inherent **order** to the data points that we want to preserve. Fortunately, Python can also store ordered collections of values in a data type called an **array**.\n",
    "\n",
    "We'll start by considering one-dimensional arrays, which are simply a series of values that all have the same type (e.g., integer or floating point). Point processes and time series can both be stored in arrays; however, the meaning of the values is different. For a time series, the array holds the sequence of **measurements**. For a point process, the array holds the sequence of **event times**.\n",
    "\n",
    "But enough theory! Let's look at some data. Start by running the cell below, which imports some external libraries. You don't need to worry about the contents yet."
   ]
  },
  {
   "cell_type": "code",
   "execution_count": 1,
   "metadata": {
    "slideshow": {
     "slide_type": "fragment"
    },
    "tags": []
   },
   "outputs": [],
   "source": [
    "%matplotlib ipympl\n",
    "import sys\n",
    "from pathlib import Path\n",
    "import numpy as np\n",
    "import scipy as sp\n",
    "import IPython\n",
    "import matplotlib.pyplot as plt\n",
    "import matplotlib as mpl\n",
    "from IPython.display import display\n",
    "import ipywidgets as widgets\n",
    "sys.path.insert(0,\"/standard/psyc5270-cdm8j/comp-neurosci\")\n",
    "from comp_neurosci_uva import signal, data, graphics"
   ]
  },
  {
   "cell_type": "markdown",
   "metadata": {
    "slideshow": {
     "slide_type": "slide"
    }
   },
   "source": [
    "---\n",
    "## Time Series: Intracellular Voltage\n",
    "\n",
    "One method of monitoring neural activity is by placing an electrode inside a neuron and measuring the voltage relative to a grounding electrode in the bath (below, top right trace):\n",
    "\n",
    "<img src=\"https://gracula.psyc.virginia.edu/public/courseware/comp-neurosci/images/recording_dayan.png\" alt=\"recording methods\" style=\"width: 400px;\"/>\n",
    "\n",
    "This generates a **time series** of voltage measurements."
   ]
  },
  {
   "cell_type": "markdown",
   "metadata": {
    "slideshow": {
     "slide_type": "slide"
    }
   },
   "source": [
    "Let's look at an example of a timeseries. Run the cell below."
   ]
  },
  {
   "cell_type": "code",
   "execution_count": 2,
   "metadata": {
    "tags": []
   },
   "outputs": [
    {
     "data": {
      "application/vnd.jupyter.widget-view+json": {
       "model_id": "1f6cec0532a04e6a90bcaf387e55f131",
       "version_major": 2,
       "version_minor": 0
      },
      "image/png": "[encoded data removed]",
      "text/html": [
       "\n",
       "            <div style=\"display: inline-block;\">\n",
       "                <div class=\"jupyter-widgets widget-label\" style=\"text-align: center;\">\n",
       "                    Figure\n",
       "                </div>\n",
       "                <img src='data:image/png;base64,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' width=900.0/>\n",
       "            </div>\n",
       "        "
      ],
      "text/plain": [
       "Canvas(toolbar=Toolbar(toolitems=[('Home', 'Reset original view', 'home', 'home'), ('Back', 'Back to previous …"
      ]
     },
     "metadata": {},
     "output_type": "display_data"
    }
   ],
   "source": [
    "V, Fs = data.load_timeseries(Path(\"zf\", \"intracellular\", \"920061fe_2_4.wav\"))\n",
    "fig, axes = plt.subplots(nrows=1, ncols=1, figsize=(9, 4))\n",
    "t = np.arange(0.0, len(V)) / Fs\n",
    "axes.plot(t, V)\n",
    "axes.set_xlabel(\"Time (s)\")\n",
    "axes.set_ylabel(\"Voltage (mV)\")\n",
    "axes.set_xlim(0, 5.0);"
   ]
  },
  {
   "cell_type": "markdown",
   "metadata": {
    "slideshow": {
     "slide_type": "slide"
    }
   },
   "source": [
    "The plot shows the recorded voltage as a function of time. The neuron was stimulated with positive and negative current pulses. The positive pulse evoked a series of action potentials, which are the sharp spikes between 0.2 and 2.2 s. \n",
    "\n",
    "**Q1**\n",
    "\n",
    "1. How many spikes did the neuron produce? \n",
    "2. Zoom in on one of the spikes by adjusting the x-axis limits (hint: edit the last line of the code cell). Describe what this looks like up close.\n",
    "4. Zoom in on the negative-going response a bit after 3 s. Describe the shape of the curve."
   ]
  },
  {
   "cell_type": "markdown",
   "metadata": {
    "slideshow": {
     "slide_type": "slide"
    }
   },
   "source": [
    "### Sampling rate and bit depth\n",
    "\n",
    "The voltage trace in the plot above is a **sampled** time-series. Although the underlying voltage dynamics are continuous in time, the computer that made the recording only stored the voltage at discrete time intervals. The time between those intervals is called the **sampling period**, and the inverse of this value is the **sampling rate**.\n",
    "\n",
    "Similarly, although voltage is a continuous quantity, the computer has to store the voltage as a discrete value. Digital computers use binary memory, which means that numbers are represented as a series of *bits*, or binary digits. The number of bits for each sample determines the **resolution** or **bit depth** of the sampling. The more bits, the more different values can be stored."
   ]
  },
  {
   "cell_type": "markdown",
   "metadata": {
    "slideshow": {
     "slide_type": "slide"
    }
   },
   "source": [
    "#### Nyquist-Shannon theorem\n",
    "\n",
    "Clearly, increasing the sampling rate will increase the amount of hard drive space a recording will use. If a signal is sampled at 40 kHz, it will use twice as much space as the same signal sampled at 20 kHz. So what's the right sampling rate to use?\n",
    "\n",
    "According to the [Nyquist-Shannon theorem](https://en.wikipedia.org/wiki/Nyquist%E2%80%93Shannon_sampling_theorem), in order for a sampled time series to represent a signal that's changing at $x$ Hz, the signal has to be sampled at $2x$ Hz. Let's see why this is by looking at one of the action potentials:"
   ]
  },
  {
   "cell_type": "code",
   "execution_count": null,
   "metadata": {},
   "outputs": [],
   "source": [
    "fig, ax = plt.subplots(nrows=1, ncols=1, figsize=(9, 4))\n",
    "\n",
    "sampling_rate = widgets.FloatLogSlider(value=20000, base=10, min=2, max=4.3, step=0.05, \n",
    "                                        description=\"sampling_rate:\", continuous_update=True)\n",
    "display(sampling_rate)\n",
    "\n",
    "Vspk = np.r_[V[10900:11300], V[14630:15000], V[18510:19300]]\n",
    "tspk = np.arange(0.0, len(Vspk)) / Fs\n",
    "ax.plot(tspk, Vspk)\n",
    "ax.set_xlabel(\"Time (s)\")\n",
    "ax.set_ylabel(\"Voltage (mV)\")\n",
    "p = ax.plot(tspk, Vspk, 'r.-')\n",
    "\n",
    "def update(sampling_rate):\n",
    "    downsample = Fs // int(sampling_rate)\n",
    "    V_ds = Vspk[::downsample]\n",
    "    t_ds = tspk[::downsample]\n",
    "    p[0].set_data(t_ds, V_ds)\n",
    "\n",
    "widgets.interactive_output(update, {\"sampling_rate\": sampling_rate})"
   ]
  },
  {
   "cell_type": "markdown",
   "metadata": {
    "slideshow": {
     "slide_type": "slide"
    }
   },
   "source": [
    "This plot demonstrates the use of **widgets**, which we'll use in the first part of the class to explore how particular parameters affect our models and analyses. You can adjust the slider to change the sampling rate and see how sampling rate affects how well a sampled time series (in red) is able to represent changes in the \"true\" data (in blue). Each red dot indicates a sample. For illustration purposes, I've placed three spikes close to each other, cutting out some of the intervening time. \n",
    "\n",
    "After getting to know how the slider works, answer the following questions. Your answers can be qualitative.\n",
    "\n",
    "**Q2**\n",
    "\n",
    "1. What's the lowest sampling rate at which you can resolve the time of the peak of all three spikes to within 1 ms? How does this value compare to the duration of the peak?\n",
    "2. What's the lowest sampling rate at which you can resolve the time of the onset of all three spikes to within 1 ms?\n",
    "3. How high does the sampling rate need to be to accurately follow the tail of the last spike? How does this value compare to the duration of the downslope?"
   ]
  },
  {
   "cell_type": "markdown",
   "metadata": {
    "slideshow": {
     "slide_type": "slide"
    }
   },
   "source": [
    "---\n",
    "## Time Series: Extracellular Voltage\n",
    "\n",
    "Another method of monitoring neural activity is by placing an electrode right next to a neuron (below, middle right trace). This is called \"extracellular recording\". As we'll see below, you can still detect action potentials, but not the subthreshold activity of the neuron.\n",
    "\n",
    "<img src=\"https://gracula.psyc.virginia.edu/public/courseware/comp-neurosci/images/recording_dayan.png\" alt=\"recording methods\" style=\"width: 400px;\"/>\n",
    "\n",
    "One major advantage of extracellular recording is that you can monitor activity in the brain while the animal is still alive and behaving. This allows us to more directly examine how sensory activity and brain activity are related. For example, we can present an auditory stimulus to the animal and record the evoked response:\n",
    "\n",
    "![experiment diagram](https://gracula.psyc.virginia.edu/public/courseware/comp-neurosci/images/experiment_diagram.png \"Auditory Neurophysiology Experiment\")\n"
   ]
  },
  {
   "cell_type": "markdown",
   "metadata": {
    "slideshow": {
     "slide_type": "slide"
    }
   },
   "source": [
    "Let's see what an extracellular response looks like:"
   ]
  },
  {
   "cell_type": "code",
   "execution_count": null,
   "metadata": {},
   "outputs": [],
   "source": [
    "stim_name = \"A8\"\n",
    "stim, sampling_rate = data.load_timeseries(Path(\"starling\", \"stimuli\", stim_name + \".wav\"))\n",
    "spec, freq, bins = signal.specgram(stim, sampling_rate)\n",
    "r, t = data.load_raw_responses(Path(\"starling\", \"extracellular\"), unit=\"st11_1_2\", stimname=stim_name)\n",
    "fig, axes = plt.subplots(nrows=2, ncols=1, figsize=(10, 4), sharex=True)\n",
    "axes[0].imshow(spec, extent=(bins[0], bins[-1], freq[0], freq[-1]), origin='lower', aspect='auto', cmap='jet')\n",
    "axes[0].set_ylabel(\"Frequency (kHz)\")\n",
    "axes[0].set_title(\"Stimulus spectrogram\")\n",
    "axes[1].plot(t, r[0])\n",
    "axes[1].set_xlabel(\"Time (s)\")\n",
    "axes[1].set_title(\"Response\");"
   ]
  },
  {
   "cell_type": "markdown",
   "metadata": {},
   "source": [
    "The top plot is a **spectrogram** of the stimulus. Spectrograms show the power in the sound as a function of time and frequency. More intense colors indicate more power. We'll discuss spectrograms in more detail later, but for now, all you need to know is that you can read the plot like a musical score.\n",
    "\n",
    "The bottom plot shows the neural recording. The recording begins before the stimulus starts and continues after it ends. These parts of the response are called the **background** or **spontaneous activity**. The part of the response that's aligned with the stimulus is called the **evoked response**.\n",
    "\n",
    "**Q3**\n",
    "\n",
    "1. Most of the recording is low-amplitude **noise**. Zoom in on a section of the response around 0 s. Describe what this looks like up close.\n",
    "3. This neuron responded with brief bursts of **action potentials**, which caused high-amplitude **spikes** in the signal around 4 s. Zoom in on these and describe what the spikes look like.\n",
    "4. Zoom back out a little and see if you can spot some patterns in the spectrogram that preceded the spiking. Do these data suggest that the neuron is responding to a particular kind of sound?"
   ]
  },
  {
   "cell_type": "markdown",
   "metadata": {
    "slideshow": {
     "slide_type": "slide"
    }
   },
   "source": [
    "---\n",
    "There are many sources of variability in the brain, so not every spike in a given trial is necessarily caused by the stimulus. Thus, each stimulus is usually presented 5-20 times to get an average that represents the part of the response that's driven by the stimulus. Let's look at a few responses to the same stimulus:"
   ]
  },
  {
   "cell_type": "code",
   "execution_count": null,
   "metadata": {},
   "outputs": [],
   "source": [
    "fig, axes = plt.subplots(nrows=4, ncols=1, figsize=(10, 6), sharex=True)\n",
    "axes[0].imshow(spec, extent=(bins[0], bins[-1], freq[0], freq[-1]), origin='lower', aspect='auto', cmap='jet')\n",
    "axes[0].set_ylabel(\"Frequency (kHz)\")\n",
    "axes[1].plot(t, r[0])\n",
    "axes[2].plot(t, r[1])\n",
    "axes[3].plot(t, r[2])\n",
    "axes[3].set_xlabel(\"Time (s)\")"
   ]
  },
  {
   "cell_type": "markdown",
   "metadata": {},
   "source": [
    "**Q4:** Zoom in on the spike bursts and compare the responses across the trials. What are the differences? What stays the same?"
   ]
  },
  {
   "cell_type": "markdown",
   "metadata": {
    "slideshow": {
     "slide_type": "slide"
    }
   },
   "source": [
    "### Spike sorting\n",
    "\n",
    "A key first step in analyzing the results of an experiment is to *sort spikes*. This is a process that takes the raw neural recordings, which are densely sampled time series, and extracts the times when a spike ocurred. To be able to say that a set of spikes represents a single neuron, we need to make sure that the waveforms are distinct from the noise. There are many different methods of doing *spike sorting*, but the major steps usually consist of:\n",
    "\n",
    "1. filter the recording to emphasize fast transients (spikes)\n",
    "1. identify potential spikes and extract their waveforms\n",
    "2. cluster similar waveforms together and exclude noise and artifacts\n",
    "\n",
    "![spike sorting diagram](https://gracula.psyc.virginia.edu/public/courseware/comp-neurosci/images/spike_sorting_diagram.png)"
   ]
  },
  {
   "cell_type": "markdown",
   "metadata": {
    "slideshow": {
     "slide_type": "slide"
    }
   },
   "source": [
    "\n",
    "Let's start with spike detection. What we need to do is determine when the signal crosses above a threshold. Setting the threshold is usually done manually. The following code snippet will illustrate how this is done."
   ]
  },
  {
   "cell_type": "code",
   "execution_count": null,
   "metadata": {},
   "outputs": [],
   "source": [
    "fig = plt.figure(figsize=(10,4))\n",
    "ax1 = plt.subplot2grid((1,4),(0,0),colspan=3)\n",
    "ax1.set_title(\"Response\")\n",
    "ax2 = plt.subplot2grid((1,4),(0,3))\n",
    "ax2.set_title(\"Spikes\")\n",
    "fig.subplots_adjust(wspace=0.3)\n",
    "\n",
    "# you can change unit name and stimulus to try with other data if you've fetched the data repository\n",
    "r, t = data.load_raw_responses(Path(\"starling\", \"extracellular\"), unit=\"st11_1_2\", stimname=stim_name)\n",
    "graphics.spike_detector(ax1, ax2, r[0], t)"
   ]
  },
  {
   "cell_type": "markdown",
   "metadata": {},
   "source": [
    "Move the `Threshold` slider to adjust the position of the black line. Any events that cross this line will be detected. A subset of the detected events will be plotted in the right panel as you adjust the threshold, and you can see the detected events marked with a red dot.\n",
    "\n",
    "**Q5:** Try adjusting the threshold so that all of the detected events have similar waveforms. How many spikes were evoked by the stimulus? What happens if you set the threshold too low?"
   ]
  },
  {
   "cell_type": "markdown",
   "metadata": {
    "slideshow": {
     "slide_type": "slide"
    }
   },
   "source": [
    "---\n",
    "## Point-Process: Spike Times\n",
    "\n",
    "Typically, with extracellular data we're only interested in the **times** when the neuron spiked, not the shape of the waveform. There's a (somewhat tedious) analysis called *spike-sorting* that extracts spike times from extracellular recordings. It begins with setting a threshold (as above) but also includes some additional steps to isolate real spikes from noise and from the signals of other neurons. At the end of this analysis, we have a **point process** representation of the neural activity, consisting only of the times when the neuron spiked.\n",
    "\n",
    "Let's see what these data look like. Run the code snippet below:"
   ]
  },
  {
   "cell_type": "code",
   "execution_count": null,
   "metadata": {},
   "outputs": [],
   "source": [
    "from comp_neurosci_uva import pprox\n",
    "unit = \"st11_1_2_1\"\n",
    "stim_name = \"A8\"\n",
    "\n",
    "stim, sampling_rate = data.load_timeseries(Path(\"starling\", \"stimuli\", stim_name + \".wav\"))\n",
    "spec, freq, bins = signal.specgram(stim, sampling_rate)\n",
    "\n",
    "resp = data.load_pprox(Path(\"starling\", \"pprox\", unit))\n",
    "resp_A8 = pprox.select_stimulus(resp, stim_name)\n",
    "fig, axes = plt.subplots(nrows=3, ncols=1, figsize=(10, 6), sharex=True)\n",
    "axes[0].imshow(spec, extent=(bins[0], bins[-1], freq[0], freq[-1]), origin='lower', aspect='auto', cmap='jet')\n",
    "axes[0].set_ylabel(\"Frequency (kHz)\")\n",
    "axes[0].set_title(\"Stimulus spectrogram\")\n",
    "axes[1].plot(t, r[0])\n",
    "axes[1].set_title(\"Raw response - Trial 1\")\n",
    "graphics.plot_raster(axes[2], resp_A8)\n",
    "axes[2].set_xlabel(\"Time (s)\")\n",
    "axes[2].set_title(\"Raster\");"
   ]
  },
  {
   "cell_type": "markdown",
   "metadata": {},
   "source": [
    "Zoom in on some of the bursts and verify that the raster \"ticks\" are aligned with the spikes in the extracellular waveform.\n",
    "\n",
    "**Q7:** How does this plot compare to what you saw in the raw recordings? How are the spikes represented in the raster plot? What's the advantage of visualizing the response this way?"
   ]
  },
  {
   "cell_type": "markdown",
   "metadata": {
    "slideshow": {
     "slide_type": "slide"
    }
   },
   "source": [
    "### Response histograms\n",
    "\n",
    "The raster plot is useful for comparing activity across trials, but what if we want to know about the *average* behavior of the neuron? One way of representing this is as a **peri-stimulus time histogram** or **PSTH**. This is a plot that shows the average number of spikes that occurred in a series of time bins. We'll pick bins that span the range of spike times."
   ]
  },
  {
   "cell_type": "code",
   "execution_count": null,
   "metadata": {},
   "outputs": [],
   "source": [
    "fig, axes = plt.subplots(nrows=3, ncols=1, figsize=(10, 6), sharex=True)\n",
    "axes[0].imshow(spec, extent=(bins[0], bins[-1], freq[0], freq[-1]), origin='lower', aspect='auto', cmap='jet')\n",
    "axes[0].set_ylabel(\"Frequency (kHz)\")\n",
    "axes[0].set_title(\"Stimulus spectrogram\")\n",
    "graphics.plot_raster(axes[1], resp_A8)\n",
    "axes[1].set_title(\"Raster\");\n",
    "axes[2].set_xlabel(\"Time (s)\")\n",
    "\n",
    "binsize = 0.025  # s\n",
    "# calculate the time of the first and last spike\n",
    "start = min(spikes[0] for spikes in resp_A8)\n",
    "stop  = max(spikes[-1] for spikes in resp_A8)\n",
    "# calculate the histogram\n",
    "rate, edges  = np.histogram(np.concatenate(resp_A8), bins=np.arange(start, stop, binsize))\n",
    "# plot\n",
    "p = axes[2].step(edges[:-1], rate / rate.max())\n",
    "\n",
    "binsize_w = widgets.FloatSlider(value=binsize, min=0.001, max=1.0, step=0.001, \n",
    "                                description=\"binsize:\", continuous_update=True)\n",
    "display(binsize_w)\n",
    "\n",
    "def update(binsize):\n",
    "    rate, edges  = np.histogram(np.concatenate(resp_A8), bins=np.arange(start, stop, binsize))\n",
    "    p[0].set_data(edges[1:], rate / rate.max())\n",
    "\n",
    "widgets.interactive_output(update, {\"binsize\": binsize_w})"
   ]
  },
  {
   "cell_type": "markdown",
   "metadata": {},
   "source": [
    "**Q8**: Adjust the bin size using the slider. How does changing this affect the appearance of the histogram? What bin size appears to give the most useful summary of the average behavior? What are the tradeoffs between large and small bin sizes?"
   ]
  },
  {
   "cell_type": "code",
   "execution_count": null,
   "metadata": {},
   "outputs": [],
   "source": []
  }
 ],
 "metadata": {
  "celltoolbar": "Slideshow",
  "kernelspec": {
   "display_name": "Python 3 (ipykernel)",
   "language": "python",
   "name": "python3"
  },
  "language_info": {
   "codemirror_mode": {
    "name": "ipython",
    "version": 3
   },
   "file_extension": ".py",
   "mimetype": "text/x-python",
   "name": "python",
   "nbconvert_exporter": "python",
   "pygments_lexer": "ipython3",
   "version": "3.11.4"
  },
  "rise": {
   "scroll": true
  }
 },
 "nbformat": 4,
 "nbformat_minor": 4
}
